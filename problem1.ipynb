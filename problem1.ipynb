{
 "cells": [
  {
   "cell_type": "markdown",
   "metadata": {},
   "source": [
    "---\n",
    "# Welcome to CE880\n",
    "### This is your week-2 : Problem 1 notebook\n",
    "### Spring Term 2022-23\n",
    "#### Prepared by Dr Haider Raza\n",
    "\n",
    "For this problem set, we'll be using the Jupyter notebook and please upload this notebook to [Google Colab](https://colab.research.google.com/). \n"
   ]
  },
  {
   "cell_type": "markdown",
   "metadata": {},
   "source": [
    "---\n",
    "## Question 1:\n",
    "\n",
    "Write a function to pass a list of numbers and calculate the exponential of all elements in the list format. \n",
    "`Hint`: take input as list and inside the function covert it into numpy array then perform the function. `Example` : input `[1, 4, 8]` and and output should be:  `[0.0, 2.0, 3.0]` "
   ]
  },
  {
   "cell_type": "code",
   "execution_count": null,
   "metadata": {
    "deletable": false,
    "nbgrader": {
     "cell_type": "code",
     "checksum": "45ffd950eafac613cdfef297902423c5",
     "grade": false,
     "grade_id": "myLog_ans",
     "locked": false,
     "schema_version": 3,
     "solution": true
    }
   },
   "outputs": [],
   "source": [
    "import numpy as np\n",
    "def myExp(mylist):\n",
    "    \"\"\"Write a function to pass a list of numbers and calculate the exponential of all elements \"\"\"\n",
    "    # YOUR CODE HERE\n",
    "    raise NotImplementedError()"
   ]
  },
  {
   "cell_type": "code",
   "execution_count": null,
   "metadata": {},
   "outputs": [],
   "source": [
    "in_array = [1, 2, 4, 6]\n",
    "myExp(in_array)"
   ]
  },
  {
   "cell_type": "code",
   "execution_count": null,
   "metadata": {
    "deletable": false,
    "editable": false,
    "nbgrader": {
     "cell_type": "code",
     "checksum": "18bab106ea5910e892e1c11ca297efec",
     "grade": true,
     "grade_id": "myLog_test",
     "locked": false,
     "points": 1,
     "schema_version": 3,
     "solution": false
    }
   },
   "outputs": [],
   "source": [
    "\"\"\"run these test cases\"\"\"\n",
    "# Test case 1\n",
    "my = [1, 2, 4, 6]\n",
    "assert myExp(my) == [2.718281828459045, 7.38905609893065, 54.598150033144236, 403.4287934927351]\n",
    "\n",
    "# Test case 2\n",
    "my = [1, 10, 100]\n",
    "assert myExp(my) == [2.718281828459045, 22026.465794806718, 2.6881171418161356e+43]"
   ]
  },
  {
   "cell_type": "markdown",
   "metadata": {},
   "source": [
    "---\n",
    "\n",
    "## Question 2:\n",
    "\n",
    "Write a function to find the k number of the smallest values from a NumPy array and remove duplicate when returning as a list. \n",
    "\n",
    "\n",
    "For example: \n",
    "`nSmallest([23, 12, 1, 3, 1, 4, 0, 4, 5, 6],3) = [0, 1, 3]`"
   ]
  },
  {
   "cell_type": "code",
   "execution_count": null,
   "metadata": {
    "deletable": false,
    "nbgrader": {
     "cell_type": "code",
     "checksum": "c08ada0919f4fca732bd1bd00e5c18df",
     "grade": false,
     "grade_id": "myfibonacci_ans",
     "locked": false,
     "schema_version": 3,
     "solution": true
    }
   },
   "outputs": [],
   "source": [
    "def nSmallest(array, k):\n",
    "    \"\"\"Find the k number of the smallest values and remove duplicates\"\"\"\n",
    "    # YOUR CODE HERE\n",
    "    raise NotImplementedError()"
   ]
  },
  {
   "cell_type": "code",
   "execution_count": null,
   "metadata": {},
   "outputs": [],
   "source": [
    "nSmallest([100, 200, 2000, 30, 110], 4)"
   ]
  },
  {
   "cell_type": "code",
   "execution_count": null,
   "metadata": {
    "deletable": false,
    "editable": false,
    "nbgrader": {
     "cell_type": "code",
     "checksum": "1e0f30225042d05e7a960851632e1f93",
     "grade": true,
     "grade_id": "myfibonacci_test",
     "locked": false,
     "points": 1,
     "schema_version": 3,
     "solution": false
    }
   },
   "outputs": [],
   "source": [
    "\"\"\"run these test cases\"\"\"\n",
    "assert nSmallest([23, 12, 1, 3, 1, 4, 0, 4, 5, 6], 3) == [0, 1, 3]\n",
    "assert nSmallest([100, 200, 2000, 30, 110], 4) == [30, 100, 110, 200]\n",
    "assert nSmallest([10, 10, 2, 5, 4, 5, 6, 8, 2], 2) == [2, 4]\n"
   ]
  },
  {
   "cell_type": "markdown",
   "metadata": {},
   "source": [
    "---\n",
    "## Question 3: \n",
    "\n",
    " Write a program, which accept a list with `nan`s in it and count the maximum number of consecutive repeated `nan`.\n",
    " Example: In the `a = [nan, nan, 0.1, nan, 0.16, 1, 0.16, 0.9999, 0.0001, 0.16, 0.101, nan, 0.16]` and answer is 2."
   ]
  },
  {
   "cell_type": "code",
   "execution_count": null,
   "metadata": {
    "deletable": false,
    "nbgrader": {
     "cell_type": "code",
     "checksum": "e0105f978e552425f896467b2ad9740d",
     "grade": false,
     "grade_id": "max_nan_ans",
     "locked": false,
     "schema_version": 3,
     "solution": true,
     "task": false
    }
   },
   "outputs": [],
   "source": [
    "# YOUR CODE HERE\n",
    "raise NotImplementedError()"
   ]
  },
  {
   "cell_type": "code",
   "execution_count": null,
   "metadata": {},
   "outputs": [],
   "source": [
    "a = [nan, nan, 0.1, nan, 0.16, 1, 0.16, 0.9999, 0.0001, 0.16, 0.101, nan, 0.16]\n",
    "max_rep_nan(a)"
   ]
  },
  {
   "cell_type": "code",
   "execution_count": null,
   "metadata": {
    "deletable": false,
    "editable": false,
    "nbgrader": {
     "cell_type": "code",
     "checksum": "ce154839fcd97350c952ce0aea65171e",
     "grade": true,
     "grade_id": "max_rep_test",
     "locked": true,
     "points": 0,
     "schema_version": 3,
     "solution": false,
     "task": false
    }
   },
   "outputs": [],
   "source": [
    "\"\"\"Check your answer by running this cell\"\"\"\n",
    "a = [nan, nan, nan, 0.1, nan, 0.16, 1, 0.16, 0.101, nan]\n",
    "assert max_rep_nan(a) == 3\n",
    "\n",
    "a = [nan, nan, nan, nan, nan, 0.16, 1, 0.16, 0.101, nan]\n",
    "assert max_rep_nan(a) == 5\n",
    "\n",
    "a = [nan, 10, nan, 0.1, nan, 0.16, 1, 0.16, 0.101, nan]\n",
    "assert max_rep_nan(a) == 1\n",
    "\n",
    "a = []\n",
    "assert max_rep_nan(a) == 0"
   ]
  },
  {
   "cell_type": "markdown",
   "metadata": {},
   "source": [
    "## Pandas Data Frame \n"
   ]
  },
  {
   "cell_type": "code",
   "execution_count": null,
   "metadata": {},
   "outputs": [],
   "source": [
    "from sklearn import datasets\n",
    "import pandas as pd"
   ]
  },
  {
   "cell_type": "code",
   "execution_count": null,
   "metadata": {},
   "outputs": [],
   "source": [
    "# import some data to play with\n",
    "diabetes = datasets.load_diabetes()\n",
    "X = pd.DataFrame(diabetes.data[:, :])  # we are taking all features.\n",
    "y = diabetes.target\n",
    "print(X)\n",
    "print(y)"
   ]
  },
  {
   "cell_type": "markdown",
   "metadata": {},
   "source": [
    "---\n",
    "## Question 4:\n",
    "\n",
    "Write a function to find the max number in the each column in the diabetes dataset and return the output as a list. Please make sure to round the output to two decimal points. "
   ]
  },
  {
   "cell_type": "code",
   "execution_count": null,
   "metadata": {
    "deletable": false,
    "nbgrader": {
     "cell_type": "code",
     "checksum": "761394defb38fe7012e55b761498e8f3",
     "grade": false,
     "grade_id": "filter_1_ans",
     "locked": false,
     "schema_version": 3,
     "solution": true,
     "task": false
    }
   },
   "outputs": [],
   "source": [
    "def my_max_min(X):\n",
    "    \"\"\"Write a function to find the max number in the each column and return \n",
    "    as a list.\"\"\"\n",
    "    # YOUR CODE HERE\n",
    "    raise NotImplementedError()"
   ]
  },
  {
   "cell_type": "code",
   "execution_count": null,
   "metadata": {
    "deletable": false,
    "editable": false,
    "nbgrader": {
     "cell_type": "code",
     "checksum": "f4749f73aa57af28262d345af797d66a",
     "grade": true,
     "grade_id": "filter_1_test",
     "locked": true,
     "points": 1,
     "schema_version": 3,
     "solution": false,
     "task": false
    }
   },
   "outputs": [],
   "source": [
    "\"\"\"Check your output\"\"\"\n",
    "assert my_max_min(X) == [0.11, 0.05, 0.17, 0.13, 0.15, 0.2, 0.18, 0.19, 0.13, 0.14]"
   ]
  },
  {
   "cell_type": "markdown",
   "metadata": {},
   "source": [
    "---\n",
    "## Question 5:\n",
    "\n",
    "\n",
    "Write a function to calculate the `mean` and `standard deviation` of diabetes dataset (first column only). `Hint`: You can use NumPy aggregate functions. Create a list and append value to it and return the output. "
   ]
  },
  {
   "cell_type": "code",
   "execution_count": null,
   "metadata": {
    "deletable": false,
    "nbgrader": {
     "cell_type": "code",
     "checksum": "9795f3163ba2f778818d6e5e90f6a38e",
     "grade": false,
     "grade_id": "stats_ans",
     "locked": false,
     "schema_version": 3,
     "solution": true,
     "task": false
    }
   },
   "outputs": [],
   "source": [
    "def stats(X):\n",
    "    \"\"\"Write a functon to calculate mean and standard deviation of IRIS dataset (last column only).\"\"\"\n",
    "    # YOUR CODE HERE\n",
    "    raise NotImplementedError()"
   ]
  },
  {
   "cell_type": "code",
   "execution_count": null,
   "metadata": {},
   "outputs": [],
   "source": [
    "stats(X)"
   ]
  },
  {
   "cell_type": "code",
   "execution_count": null,
   "metadata": {
    "deletable": false,
    "editable": false,
    "nbgrader": {
     "cell_type": "code",
     "checksum": "0ababc746ad2b9e122915817ade0537f",
     "grade": true,
     "grade_id": "stats_test",
     "locked": true,
     "points": 2,
     "schema_version": 3,
     "solution": false,
     "task": false
    }
   },
   "outputs": [],
   "source": [
    "\"\"\"Check your output\"\"\"\n",
    "# Test case\n",
    "x = stats(X)\n",
    "y= [-3.6396225400041895e-16, 0.04761904761904939]\n",
    "np.testing.assert_allclose(x, y, rtol=0.05, atol=0)"
   ]
  }
 ],
 "metadata": {
  "kernelspec": {
   "display_name": "Python 3",
   "language": "python",
   "name": "python3"
  },
  "language_info": {
   "codemirror_mode": {
    "name": "ipython",
    "version": 3
   },
   "file_extension": ".py",
   "mimetype": "text/x-python",
   "name": "python",
   "nbconvert_exporter": "python",
   "pygments_lexer": "ipython3",
   "version": "3.7.11"
  }
 },
 "nbformat": 4,
 "nbformat_minor": 1
}
