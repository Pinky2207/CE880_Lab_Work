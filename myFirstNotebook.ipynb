{
  "nbformat": 4,
  "nbformat_minor": 0,
  "metadata": {
    "colab": {
      "provenance": [],
      "authorship_tag": "ABX9TyOEr9T2ZrLi5SKjYzGBlYGa",
      "include_colab_link": true
    },
    "kernelspec": {
      "name": "python3",
      "display_name": "Python 3"
    },
    "language_info": {
      "name": "python"
    }
  },
  "cells": [
    {
      "cell_type": "markdown",
      "metadata": {
        "id": "view-in-github",
        "colab_type": "text"
      },
      "source": [
        "<a href=\"https://colab.research.google.com/github/Pinky2207/CE880_Lab_Work/blob/main/myFirstNotebook.ipynb\" target=\"_parent\"><img src=\"https://colab.research.google.com/assets/colab-badge.svg\" alt=\"Open In Colab\"/></a>"
      ]
    },
    {
      "cell_type": "code",
      "execution_count": null,
      "metadata": {
        "colab": {
          "base_uri": "https://localhost:8080/"
        },
        "id": "YyEUodhxhY2v",
        "outputId": "094965c9-d279-4b96-eb6d-aa2b9b7dd713"
      },
      "outputs": [
        {
          "output_type": "stream",
          "name": "stdout",
          "text": [
            "hello world\n"
          ]
        }
      ],
      "source": [
        "print(\"hello world\")"
      ]
    },
    {
      "cell_type": "code",
      "source": [
        "num1 = 10\n",
        "num2 = 14\n",
        "sum=num1+num2\n",
        "print(sum)"
      ],
      "metadata": {
        "id": "QAjcGGiPrWzN",
        "outputId": "45dab903-5afa-46a6-bf83-c977d46d2c36",
        "colab": {
          "base_uri": "https://localhost:8080/"
        }
      },
      "execution_count": 1,
      "outputs": [
        {
          "output_type": "stream",
          "name": "stdout",
          "text": [
            "24\n"
          ]
        }
      ]
    },
    {
      "cell_type": "markdown",
      "source": [
        "Area of a Triangle"
      ],
      "metadata": {
        "id": "a1JAvOSItxgE"
      }
    },
    {
      "cell_type": "code",
      "source": [
        "base = 12\n",
        "height = 14\n",
        "area = base * height/2\n",
        "print(area)\n"
      ],
      "metadata": {
        "id": "PJMuJGIPtxEt",
        "outputId": "4412ffcd-9880-491f-a7ff-e10c24bea967",
        "colab": {
          "base_uri": "https://localhost:8080/"
        }
      },
      "execution_count": 2,
      "outputs": [
        {
          "output_type": "stream",
          "name": "stdout",
          "text": [
            "84.0\n"
          ]
        }
      ]
    }
  ]
}